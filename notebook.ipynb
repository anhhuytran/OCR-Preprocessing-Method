{
 "metadata": {
  "language_info": {
   "codemirror_mode": {
    "name": "ipython",
    "version": 3
   },
   "file_extension": ".py",
   "mimetype": "text/x-python",
   "name": "python",
   "nbconvert_exporter": "python",
   "pygments_lexer": "ipython3",
   "version": "3.9.6"
  },
  "orig_nbformat": 4,
  "kernelspec": {
   "name": "python3",
   "display_name": "Python 3.9.6 64-bit"
  },
  "interpreter": {
   "hash": "767d51c1340bd893661ea55ea3124f6de3c7a262a8b4abca0554b478b1e2ff90"
  }
 },
 "nbformat": 4,
 "nbformat_minor": 2,
 "cells": [
  {
   "cell_type": "code",
   "execution_count": null,
   "source": [
    "from difflib import SequenceMatcher\n",
    "from asrtoolkit import cer, wer\n",
    "import cv2\n",
    "import pytesseract\n",
    "import numpy as np\n",
    "from statistics import mean\n",
    "import matplotlib.pyplot as plt\n",
    "from scipy.ndimage import interpolation as inter"
   ],
   "outputs": [],
   "metadata": {}
  },
  {
   "cell_type": "code",
   "execution_count": null,
   "source": [
    "\n",
    "def get_angle(image, delta = 1, center = 0, range = 45):\n",
    "    def determine_score(arr, angle):\n",
    "        data = inter.rotate(arr, angle, reshape = False, order = 0)\n",
    "        histogram = np.sum(data, axis = 1, dtype = object)\n",
    "        score = np.sum((histogram[1:] - histogram[:-1]) ** 2, dtype = object)\n",
    "        \n",
    "        return histogram, score\n",
    "\n",
    "    scores = []\n",
    "    angles = np.arange(center - range, center + range + delta, delta)\n",
    "    for angle in angles:\n",
    "        histogram, score = determine_score(image, angle)\n",
    "        scores.append(score)\n",
    "\n",
    "    best_angle = angles[scores.index(max(scores))]\n",
    "    return best_angle\n",
    "\n",
    "def rotate_image(image, angle):\n",
    "    (h, w) = image.shape[:2]\n",
    "    center = (w // 2, h // 2)\n",
    "\n",
    "    M = cv2.getRotationMatrix2D(center, angle, 1.0)\n",
    "    rotated = cv2.warpAffine(image, M, (w, h), flags=cv2.INTER_CUBIC, borderMode=cv2.BORDER_REPLICATE)\n",
    "\n",
    "    return rotated\n",
    "\n",
    "def resize_image(image, max_width = 800, max_height = 1000):\n",
    "    height, width = image.shape[:2]\n",
    "\n",
    "    scale_with = float(max_width) / width\n",
    "    scale_height = float(max_height) / height\n",
    "    \n",
    "    scale = max(scale_with, scale_height)\n",
    "\n",
    "    if scale < 1.0:\n",
    "        return cv2.resize(image, None, fx = scale, fy = scale, interpolation = cv2.INTER_AREA)\n",
    "    else:\n",
    "        return image\n",
    "\n",
    "def correct_skew(image, delta = 0.01, range = 45):\n",
    "    small = resize_image(image)\n",
    "    \n",
    "    _delta = 1\n",
    "    angle = 0\n",
    "    while _delta >= delta:\n",
    "        angle = get_angle(small, _delta, angle, range)\n",
    "        print(angle)\n",
    "\n",
    "        range = _delta\n",
    "        _delta /= 10\n",
    "\n",
    "    return rotate_image(image, angle)"
   ],
   "outputs": [],
   "metadata": {}
  },
  {
   "cell_type": "code",
   "execution_count": null,
   "source": [
    "def img2text(fileName, process = True):\n",
    "    img = cv2.imread(fileName, cv2.IMREAD_GRAYSCALE)\n",
    "    if process:\n",
    "        img = processImg(img)\n",
    "        \n",
    "    return pytesseract.image_to_string(img)"
   ],
   "outputs": [],
   "metadata": {}
  },
  {
   "cell_type": "code",
   "execution_count": null,
   "source": [
    "def processImg(img):\n",
    "    thres = cv2.adaptiveThreshold(img, 255, cv2.ADAPTIVE_THRESH_GAUSSIAN_C, cv2.THRESH_BINARY, 101, 20)\n",
    "    skew = correct_skew(thres)\n",
    "\n",
    "    return skew"
   ],
   "outputs": [],
   "metadata": {}
  },
  {
   "cell_type": "code",
   "execution_count": null,
   "source": [
    "def calcCER(begin, end, path = 'test_images/captured/grayscale/..._CC_GRAY.jpg'):\n",
    "    res = []\n",
    "    for i in range(begin, end + 1):\n",
    "        fileName = str(i).zfill(3)\n",
    "        imageName = path.replace('...', fileName)\n",
    "        truthName = f'test_images/truth/{fileName}_OCR_ASCII_TEXT_GT.txt'\n",
    "\n",
    "        text = img2text(imageName)\n",
    "        with open(truthName, 'r') as f:\n",
    "            groundTruth = f.read()\n",
    "\n",
    "        val = cer(groundTruth, text)\n",
    "        res.append(val)\n",
    "        print(f'{fileName}: {val}')\n",
    "\n",
    "    return res"
   ],
   "outputs": [],
   "metadata": {}
  },
  {
   "cell_type": "code",
   "execution_count": null,
   "source": [
    "def imgProcess(begin, end, extension, path = 'test_images/captured/grayscale/..._CC_GRAY.jpg'):\n",
    "    res = []\n",
    "    for i in range(begin, end + 1):\n",
    "        fileName = str(i).zfill(3)\n",
    "        imageName = path.replace('...', fileName)\n",
    "        resultName = f'test_images/res/{fileName}{extension}'\n",
    "\n",
    "        img = cv2.imread(imageName, cv2.IMREAD_GRAYSCALE)\n",
    "        img = processImg(img)\n",
    "        cv2.imwrite(resultName, img)"
   ],
   "outputs": [],
   "metadata": {}
  },
  {
   "cell_type": "code",
   "execution_count": null,
   "source": [
    "#write process image\n",
    "imgProcess(1, 10, 'a.png')"
   ],
   "outputs": [],
   "metadata": {}
  },
  {
   "cell_type": "code",
   "execution_count": null,
   "source": [
    "#calc avg of CER (with pre-process)\n",
    "CERs = calcCER(12,12)\n",
    "print(mean(CERs))"
   ],
   "outputs": [],
   "metadata": {}
  },
  {
   "cell_type": "code",
   "execution_count": null,
   "source": [
    "#calc avg of CER (with pre-process) demo image\n",
    "CERs = calcCER(12, 12, 'demo.png')\n",
    "print(mean(CERs))"
   ],
   "outputs": [],
   "metadata": {}
  },
  {
   "cell_type": "code",
   "execution_count": null,
   "source": [
    "#calc CER of binary file\n",
    "CERs = calcCER(11,13, 'test_images/captured/binarized/..._SCANNED_BIN_GT.png')\n",
    "print(mean(CERs))"
   ],
   "outputs": [],
   "metadata": {}
  },
  {
   "cell_type": "code",
   "execution_count": null,
   "source": [
    "#print text of one image\n",
    "fileName = '012'\n",
    "imageName = f'test_images/captured/grayscale/{fileName}_CC_GRAY.jpg'\n",
    "binaryName = f'test_images/captured/binarized/{fileName}_SCANNED_BIN_GT.png'\n",
    "\n",
    "print(img2text(binaryName))"
   ],
   "outputs": [],
   "metadata": {}
  },
  {
   "cell_type": "code",
   "execution_count": null,
   "source": [
    "#print text of one demo image\n",
    "fileName = '012'\n",
    "imageName = 'res5.png'\n",
    "binaryName = f'test_images/captured/binarized/{fileName}_SCANNED_BIN_GT.png'\n",
    "\n",
    "print(img2text(imageName, False))"
   ],
   "outputs": [],
   "metadata": {}
  },
  {
   "cell_type": "code",
   "execution_count": null,
   "source": [
    "#show image after process\n",
    "fileName = '019'\n",
    "imageName = f'test_images/captured/grayscale/{fileName}_CC_GRAY.jpg'\n",
    "img = cv2.imread(imageName, cv2.IMREAD_GRAYSCALE)\n",
    "\n",
    "img = processImg(img)\n",
    "\n",
    "cv2.imwrite('_res.png', img)"
   ],
   "outputs": [],
   "metadata": {}
  },
  {
   "cell_type": "code",
   "execution_count": null,
   "source": [
    "#test image process\n",
    "fileName = 'demo2.jpg'\n",
    "img = cv2.imread(fileName, cv2.IMREAD_GRAYSCALE)\n",
    "\n",
    "# https://docs.opencv.org/4.5.2/d7/d4d/tutorial_py_thresholding.html\n",
    "# _, img = cv2.threshold(img, 100, 255, cv2.THRESH_BINARY)\n",
    "img = cv2.adaptiveThreshold(img, 255, cv2.ADAPTIVE_THRESH_GAUSSIAN_C, cv2.THRESH_BINARY, 101, 20)\n",
    "\n",
    "cv2.imwrite('res.jpg', img)"
   ],
   "outputs": [],
   "metadata": {}
  },
  {
   "cell_type": "code",
   "execution_count": null,
   "source": [],
   "outputs": [],
   "metadata": {}
  }
 ]
}