{
 "metadata": {
  "language_info": {
   "codemirror_mode": {
    "name": "ipython",
    "version": 3
   },
   "file_extension": ".py",
   "mimetype": "text/x-python",
   "name": "python",
   "nbconvert_exporter": "python",
   "pygments_lexer": "ipython3",
   "version": "3.9.5"
  },
  "orig_nbformat": 4,
  "kernelspec": {
   "name": "python3",
   "display_name": "Python 3.9.5 64-bit"
  },
  "interpreter": {
   "hash": "767d51c1340bd893661ea55ea3124f6de3c7a262a8b4abca0554b478b1e2ff90"
  }
 },
 "nbformat": 4,
 "nbformat_minor": 2,
 "cells": [
  {
   "cell_type": "code",
   "execution_count": 7,
   "metadata": {},
   "outputs": [],
   "source": [
    "from difflib import SequenceMatcher\n",
    "from asrtoolkit import cer, wer\n",
    "import cv2\n",
    "import pytesseract\n",
    "import numpy as np"
   ]
  },
  {
   "cell_type": "code",
   "execution_count": null,
   "metadata": {},
   "outputs": [],
   "source": [
    "def ratio(a, b):\n",
    "    # read more: https://docs.python.org/3/library/difflib.html#difflib.SequenceMatcher.ratio\n",
    "\n",
    "    ratio1 = SequenceMatcher(None, a, b).ratio()\n",
    "    ratio2 = SequenceMatcher(None, b, a).ratio()\n",
    "\n",
    "    return max(ratio1, ratio2) * 100"
   ]
  },
  {
   "cell_type": "code",
   "execution_count": 10,
   "metadata": {},
   "outputs": [],
   "source": [
    "fileName = '011'\n",
    "\n",
    "img = cv2.imread('test_images/captured/grayscale/' + fileName + '_CC_GRAY.jpg', cv2.IMREAD_GRAYSCALE)\n",
    "binary = cv2.imread('test_images/captured/binarized/' + fileName + '_SCANNED_BIN_GT.png', cv2.IMREAD_GRAYSCALE)"
   ]
  },
  {
   "cell_type": "code",
   "execution_count": 14,
   "metadata": {},
   "outputs": [
    {
     "output_type": "execute_result",
     "data": {
      "text/plain": [
       "True"
      ]
     },
     "metadata": {},
     "execution_count": 14
    }
   ],
   "source": [
    "# img = cv2.threshold(img, 0, 255, cv2.THRESH_BINARY | cv2.THRESH_OTSU)[1]\n",
    "gray = cv2.medianBlur(img, 5)\n",
    "edged = cv2.Canny(gray, 75, 200)\n",
    "\n",
    "\n",
    "cv2.imwrite('origin.jpg', gray)"
   ]
  },
  {
   "cell_type": "code",
   "execution_count": null,
   "metadata": {},
   "outputs": [],
   "source": [
    "textProcess = pytesseract.image_to_string(img, config = r'--oem 3 --psm 6')\n",
    "textBinary = pytesseract.image_to_string(binary)\n",
    "\n",
    "with open('test_images/truth/' + fileName + '_OCR_ASCII_TEXT_GT.txt', 'r') as f:\n",
    "    textTruth = f.read()\n",
    "\n",
    "with open('log/' + fileName + 'PCS.txt', 'w') as f:\n",
    "    f.writelines(textProcess)\n",
    "with open('log/' + fileName + 'BIN.txt', 'w') as f:\n",
    "    f.writelines(textBinary)"
   ]
  },
  {
   "cell_type": "code",
   "execution_count": null,
   "metadata": {},
   "outputs": [],
   "source": [
    "print(cer(textTruth, textProcess), cer(textTruth, textBinary))\n",
    "print(wer(textTruth, textProcess), wer(textTruth, textBinary))"
   ]
  },
  {
   "cell_type": "code",
   "execution_count": 6,
   "metadata": {},
   "outputs": [
    {
     "output_type": "execute_result",
     "data": {
      "text/plain": [
       "True"
      ]
     },
     "metadata": {},
     "execution_count": 6
    }
   ],
   "source": [
    "\n",
    "\n",
    "import math\n",
    "from typing import Tuple, Union\n",
    "\n",
    "import cv2\n",
    "import numpy as np\n",
    "\n",
    "from deskew import determine_skew\n",
    "\n",
    "\n",
    "def rotate(\n",
    "        image: np.ndarray, angle: float, background: Union[int, Tuple[int, int, int]]\n",
    ") -> np.ndarray:\n",
    "    old_width, old_height = image.shape[:2]\n",
    "    angle_radian = math.radians(angle)\n",
    "    width = abs(np.sin(angle_radian) * old_height) + abs(np.cos(angle_radian) * old_width)\n",
    "    height = abs(np.sin(angle_radian) * old_width) + abs(np.cos(angle_radian) * old_height)\n",
    "\n",
    "    image_center = tuple(np.array(image.shape[1::-1]) / 2)\n",
    "    rot_mat = cv2.getRotationMatrix2D(image_center, angle, 1.0)\n",
    "    rot_mat[1, 2] += (width - old_width) / 2\n",
    "    rot_mat[0, 2] += (height - old_height) / 2\n",
    "    return cv2.warpAffine(image, rot_mat, (int(round(height)), int(round(width))), borderValue=background)\n",
    "\n",
    "image = cv2.imread('test_images/captured/grayscale/011_CC_GRAY.jpg')\n",
    "grayscale = cv2.cvtColor(image, cv2.COLOR_BGR2GRAY)\n",
    "angle = determine_skew(grayscale)\n",
    "rotated = rotate(image, angle, (0, 0, 0))\n",
    "cv2.imwrite('output.png', rotated)"
   ]
  },
  {
   "cell_type": "code",
   "execution_count": null,
   "metadata": {},
   "outputs": [],
   "source": []
  }
 ]
}