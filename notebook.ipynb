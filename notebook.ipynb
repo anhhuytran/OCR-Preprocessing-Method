{
 "metadata": {
  "language_info": {
   "codemirror_mode": {
    "name": "ipython",
    "version": 3
   },
   "file_extension": ".py",
   "mimetype": "text/x-python",
   "name": "python",
   "nbconvert_exporter": "python",
   "pygments_lexer": "ipython3",
   "version": "3.9.5"
  },
  "orig_nbformat": 4,
  "kernelspec": {
   "name": "python3",
   "display_name": "Python 3.9.5 64-bit"
  },
  "interpreter": {
   "hash": "767d51c1340bd893661ea55ea3124f6de3c7a262a8b4abca0554b478b1e2ff90"
  }
 },
 "nbformat": 4,
 "nbformat_minor": 2,
 "cells": [
  {
   "cell_type": "code",
   "execution_count": 2,
   "metadata": {},
   "outputs": [],
   "source": [
    "from difflib import SequenceMatcher\n",
    "from asrtoolkit import cer, wer\n",
    "import cv2\n",
    "import pytesseract\n",
    "import numpy as np\n",
    "from statistics import mean\n",
    "import matplotlib.pyplot as plt"
   ]
  },
  {
   "cell_type": "code",
   "execution_count": 3,
   "metadata": {},
   "outputs": [],
   "source": [
    "def img2text(fileName, process = True):\n",
    "    img = cv2.imread(fileName, cv2.IMREAD_GRAYSCALE)\n",
    "    if process:\n",
    "        img = processImg(img)\n",
    "        \n",
    "    return pytesseract.image_to_string(img)"
   ]
  },
  {
   "cell_type": "code",
   "execution_count": 8,
   "metadata": {},
   "outputs": [],
   "source": [
    "def processImg(img):\n",
    "    img = cv2.adaptiveThreshold(img, 255, cv2.ADAPTIVE_THRESH_GAUSSIAN_C, cv2.THRESH_BINARY, 101, 20)\n",
    "    \n",
    "    return img"
   ]
  },
  {
   "cell_type": "code",
   "execution_count": 5,
   "metadata": {},
   "outputs": [],
   "source": [
    "def showImg(img, name = '', height = 1080, width = 1080):\n",
    "    cv2.namedWindow(name, cv2.WINDOW_NORMAL)\n",
    "    cv2.resizeWindow(name, height, width)\n",
    "    cv2.imshow(name, img)\n",
    "    cv2.waitKey()"
   ]
  },
  {
   "cell_type": "code",
   "execution_count": 6,
   "metadata": {},
   "outputs": [],
   "source": [
    "def calcCER(begin, end, path = 'test_images/captured/grayscale/..._CC_GRAY.jpg'):\n",
    "    res = []\n",
    "    for i in range(begin, end + 1):\n",
    "        fileName = str(i).zfill(3)\n",
    "        imageName = path.replace('...', fileName)\n",
    "        truthName = f'test_images/truth/{fileName}_OCR_ASCII_TEXT_GT.txt'\n",
    "\n",
    "        text = img2text(imageName)\n",
    "        with open(truthName, 'r') as f:\n",
    "            groundTruth = f.read()\n",
    "\n",
    "        val = cer(groundTruth, text)\n",
    "        res.append(val)\n",
    "        print(f'{fileName}: {val}')\n",
    "\n",
    "    return res"
   ]
  },
  {
   "cell_type": "code",
   "execution_count": 10,
   "metadata": {},
   "outputs": [],
   "source": [
    "def imgProcess(begin, end, extension, path = 'test_images/captured/grayscale/..._CC_GRAY.jpg'):\n",
    "    res = []\n",
    "    for i in range(begin, end + 1):\n",
    "        fileName = str(i).zfill(3)\n",
    "        imageName = path.replace('...', fileName)\n",
    "        resultName = f'test_images/res/{fileName}{extension}'\n",
    "\n",
    "        img = cv2.imread(imageName, cv2.IMREAD_GRAYSCALE)\n",
    "        img = processImg(img)\n",
    "        cv2.imwrite(resultName, img)"
   ]
  },
  {
   "cell_type": "code",
   "execution_count": 11,
   "metadata": {},
   "outputs": [],
   "source": [
    "#write process image\n",
    "imgProcess(1, 10, 'a.png')"
   ]
  },
  {
   "cell_type": "code",
   "execution_count": null,
   "metadata": {},
   "outputs": [],
   "source": [
    "#calc avg of CER (with pre-process)\n",
    "CERs = calcCER(12,12)\n",
    "print(mean(CERs))"
   ]
  },
  {
   "cell_type": "code",
   "execution_count": null,
   "metadata": {},
   "outputs": [],
   "source": [
    "#calc avg of CER (with pre-process) demo image\n",
    "CERs = calcCER(12, 12, 'demo.png')\n",
    "print(mean(CERs))"
   ]
  },
  {
   "cell_type": "code",
   "execution_count": null,
   "metadata": {},
   "outputs": [],
   "source": [
    "#calc CER of binary file\n",
    "CERs = calcCER(11,13, 'test_images/captured/binarized/..._SCANNED_BIN_GT.png')\n",
    "print(mean(CERs))"
   ]
  },
  {
   "cell_type": "code",
   "execution_count": null,
   "metadata": {},
   "outputs": [],
   "source": [
    "#print text of one image\n",
    "fileName = '012'\n",
    "imageName = f'test_images/captured/grayscale/{fileName}_CC_GRAY.jpg'\n",
    "binaryName = f'test_images/captured/binarized/{fileName}_SCANNED_BIN_GT.png'\n",
    "\n",
    "print(img2text(binaryName))"
   ]
  },
  {
   "cell_type": "code",
   "execution_count": 5,
   "metadata": {},
   "outputs": [
    {
     "output_type": "stream",
     "name": "stdout",
     "text": [
      "layouts due to non-text ex---\n\nReading Order Determination Accuracy\n6,3 Performance of the reading order determination algorithm heavily depends on the\ntext-line detection accuracy. Manual inspection of the results showed the following types\n\nof derdfgewo text-lines from different text columms are merged, they are interPreted as a\n\nseparator and hence the algorithm gives a wrong reading order.\n2. In some cases, the separation between different sections of a multi-column document\nis not réPresented py a text-liné spanning along the columns, put instead a ruling\n\f\n"
     ]
    }
   ],
   "source": [
    "#print text of one demo image\n",
    "fileName = '012'\n",
    "imageName = 'res5.png'\n",
    "binaryName = f'test_images/captured/binarized/{fileName}_SCANNED_BIN_GT.png'\n",
    "\n",
    "print(img2text(imageName, False))"
   ]
  },
  {
   "cell_type": "code",
   "execution_count": null,
   "metadata": {},
   "outputs": [],
   "source": [
    "#show image after process\n",
    "fileName = '012'\n",
    "imageName = f'test_images/captured/grayscale/{fileName}_CC_GRAY.jpg'\n",
    "img = cv2.imread(imageName, cv2.IMREAD_GRAYSCALE)\n",
    "\n",
    "img = processImg(img)\n",
    "\n",
    "showImg(img)"
   ]
  },
  {
   "cell_type": "code",
   "execution_count": 5,
   "metadata": {},
   "outputs": [
    {
     "output_type": "execute_result",
     "data": {
      "text/plain": [
       "True"
      ]
     },
     "metadata": {},
     "execution_count": 5
    }
   ],
   "source": [
    "#test image process\n",
    "fileName = 'demo2.jpg'\n",
    "img = cv2.imread(fileName, cv2.IMREAD_GRAYSCALE)\n",
    "\n",
    "# https://docs.opencv.org/4.5.2/d7/d4d/tutorial_py_thresholding.html\n",
    "# _, img = cv2.threshold(img, 100, 255, cv2.THRESH_BINARY)\n",
    "img = cv2.adaptiveThreshold(img, 255, cv2.ADAPTIVE_THRESH_GAUSSIAN_C, cv2.THRESH_BINARY, 101, 20)\n",
    "\n",
    "cv2.imwrite('res.jpg', img)"
   ]
  },
  {
   "cell_type": "code",
   "execution_count": null,
   "metadata": {},
   "outputs": [],
   "source": []
  }
 ]
}